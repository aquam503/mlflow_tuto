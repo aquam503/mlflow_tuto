{
 "cells": [
  {
   "cell_type": "code",
   "execution_count": 17,
   "metadata": {},
   "outputs": [],
   "source": [
    "import mlflow\n",
    "import pandas"
   ]
  },
  {
   "cell_type": "code",
   "execution_count": 14,
   "metadata": {},
   "outputs": [],
   "source": [
    "# track expirements in my local :)\n",
    "mlflow.set_tracking_uri('http://127.0.0.1:5000/')"
   ]
  },
  {
   "cell_type": "code",
   "execution_count": 16,
   "metadata": {},
   "outputs": [
    {
     "name": "stderr",
     "output_type": "stream",
     "text": [
      "2024/11/08 02:33:34 INFO mlflow.tracking.fluent: Experiment with name 'radouane - experiment' does not exist. Creating a new experiment.\n"
     ]
    },
    {
     "data": {
      "text/plain": [
       "<Experiment: artifact_location='mlflow-artifacts:/629115611392901026', creation_time=1731029614866, experiment_id='629115611392901026', last_update_time=1731029614866, lifecycle_stage='active', name='radouane - experiment', tags={}>"
      ]
     },
     "execution_count": 16,
     "metadata": {},
     "output_type": "execute_result"
    }
   ],
   "source": [
    "mlflow.set_experiment('radouane - experiment')"
   ]
  },
  {
   "cell_type": "code",
   "execution_count": 13,
   "metadata": {},
   "outputs": [
    {
     "name": "stderr",
     "output_type": "stream",
     "text": [
      "2024/11/08 02:29:54 INFO mlflow.tracking._tracking_service.client: 🏃 View run vaunted-loon-513 at: http://127.0.0.1:5000/#/experiments/106642799608414845/runs/c7a6f4e8405745e48bdbc92da7acd01b.\n",
      "2024/11/08 02:29:54 INFO mlflow.tracking._tracking_service.client: 🧪 View experiment at: http://127.0.0.1:5000/#/experiments/106642799608414845.\n"
     ]
    }
   ],
   "source": [
    "with mlflow.start_run():\n",
    "    mlflow.log_metric(\"radouane metric\", 23)\n",
    "    mlflow.log_param(\"radouane param\", 100)\n",
    "    # Your ml code"
   ]
  },
  {
   "cell_type": "code",
   "execution_count": 12,
   "metadata": {},
   "outputs": [
    {
     "name": "stderr",
     "output_type": "stream",
     "text": [
      "2024/11/08 01:57:13 WARNING mlflow.models.model: Model logged without a signature and input example. Please set `input_example` parameter when logging the model to auto infer the model signature.\n",
      "2024/11/08 01:57:13 INFO mlflow.tracking._tracking_service.client: 🏃 View run adventurous-dove-676 at: http://127.0.0.1:5000/#/experiments/106642799608414845/runs/ad0b6626c8994dff847ad21cf0fc02c1.\n",
      "2024/11/08 01:57:13 INFO mlflow.tracking._tracking_service.client: 🧪 View experiment at: http://127.0.0.1:5000/#/experiments/106642799608414845.\n"
     ]
    },
    {
     "name": "stdout",
     "output_type": "stream",
     "text": [
      "Model logged with MSE: 0.5558915986952425\n"
     ]
    }
   ],
   "source": [
    "import mlflow.sklearn\n",
    "from sklearn.model_selection import train_test_split\n",
    "from sklearn.linear_model import LinearRegression\n",
    "from sklearn.metrics import mean_squared_error\n",
    "from sklearn.datasets import fetch_california_housing\n",
    "\n",
    "# Load and split the dataset\n",
    "data = fetch_california_housing()\n",
    "X_train, X_test, y_train, y_test = train_test_split(data.data, data.target, test_size=0.2, random_state=42)\n",
    "# Start an MLflow experiment\n",
    "with mlflow.start_run():\n",
    "    model = LinearRegression()\n",
    "    model.fit(X_train, y_train)\n",
    "    predictions = model.predict(X_test)\n",
    "    \n",
    "    # Log model parameters and metrics\n",
    "    mlflow.log_param(\"model_type\", \"Linear Regression\")\n",
    "    mlflow.log_metric(\"mse\", mean_squared_error(y_test, predictions))\n",
    "    \n",
    "    # Log the model itself\n",
    "    mlflow.sklearn.log_model(model, \"linear_regression_model\")\n",
    "    print(f\"Model logged with MSE: {mean_squared_error(y_test, predictions)}\")"
   ]
  }
 ],
 "metadata": {
  "kernelspec": {
   "display_name": "venv1",
   "language": "python",
   "name": "python3"
  },
  "language_info": {
   "codemirror_mode": {
    "name": "ipython",
    "version": 3
   },
   "file_extension": ".py",
   "mimetype": "text/x-python",
   "name": "python",
   "nbconvert_exporter": "python",
   "pygments_lexer": "ipython3",
   "version": "3.10.2"
  }
 },
 "nbformat": 4,
 "nbformat_minor": 2
}
